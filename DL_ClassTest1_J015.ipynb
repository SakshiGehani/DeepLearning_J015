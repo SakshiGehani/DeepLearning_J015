{
  "nbformat": 4,
  "nbformat_minor": 0,
  "metadata": {
    "colab": {
      "name": "DL_ClassTest1_J015.ipynb",
      "provenance": [],
      "authorship_tag": "ABX9TyMosGIRjG7c1iC0xpvb4SMC",
      "include_colab_link": true
    },
    "kernelspec": {
      "name": "python3",
      "display_name": "Python 3"
    },
    "accelerator": "GPU"
  },
  "cells": [
    {
      "cell_type": "markdown",
      "metadata": {
        "id": "view-in-github",
        "colab_type": "text"
      },
      "source": [
        "<a href=\"https://colab.research.google.com/github/SakshiGehani/DeepLearning_J015/blob/master/DL_ClassTest1_J015.ipynb\" target=\"_parent\"><img src=\"https://colab.research.google.com/assets/colab-badge.svg\" alt=\"Open In Colab\"/></a>"
      ]
    },
    {
      "cell_type": "code",
      "metadata": {
        "id": "2QNSso_DnWlW",
        "colab_type": "code",
        "outputId": "2d82af86-4194-4ef3-9061-92a04ae1f113",
        "colab": {
          "base_uri": "https://localhost:8080/",
          "height": 115
        }
      },
      "source": [
        "#import packages\n",
        "import keras\n",
        "from keras.datasets import cifar10\n",
        "from keras.models import Sequential\n",
        "from keras.layers import Dense, Dropout, Activation, Flatten\n",
        "from keras.utils import to_categorical\n",
        "\n",
        "#import dataset\n",
        "(X_train, y_train), (X_test, y_test) = cifar10.load_data()  ## Image dataset coloured\n",
        "\n",
        "#change shape from image to vector\n",
        "X_train = X_train.reshape(50000, 32 * 32 * 3)     ## taking 50000 images for training and 10000 for testing\n",
        "X_test = X_test.reshape(10000, 32 * 32 * 3)"
      ],
      "execution_count": 0,
      "outputs": [
        {
          "output_type": "stream",
          "text": [
            "Using TensorFlow backend.\n"
          ],
          "name": "stderr"
        },
        {
          "output_type": "display_data",
          "data": {
            "text/html": [
              "<p style=\"color: red;\">\n",
              "The default version of TensorFlow in Colab will soon switch to TensorFlow 2.x.<br>\n",
              "We recommend you <a href=\"https://www.tensorflow.org/guide/migrate\" target=\"_blank\">upgrade</a> now \n",
              "or ensure your notebook will continue to use TensorFlow 1.x via the <code>%tensorflow_version 1.x</code> magic:\n",
              "<a href=\"https://colab.research.google.com/notebooks/tensorflow_version.ipynb\" target=\"_blank\">more info</a>.</p>\n"
            ],
            "text/plain": [
              "<IPython.core.display.HTML object>"
            ]
          },
          "metadata": {
            "tags": []
          }
        },
        {
          "output_type": "stream",
          "text": [
            "Downloading data from https://www.cs.toronto.edu/~kriz/cifar-10-python.tar.gz\n",
            "170500096/170498071 [==============================] - 5s 0us/step\n"
          ],
          "name": "stdout"
        }
      ]
    },
    {
      "cell_type": "code",
      "metadata": {
        "id": "a5btt8UpoC47",
        "colab_type": "code",
        "colab": {}
      },
      "source": [
        "#preprocess\n",
        "X_train = X_train.astype('float32')\n",
        "X_test = X_test.astype('float32')\n",
        "X_train /= 255.0                    ## to get values b/w 0 and 1\n",
        "X_test /= 255.0\n",
        "\n",
        "#change labels from numeric to one hot encoded\n",
        "Y_train = to_categorical(y_train, 10)\n",
        "Y_test =  to_categorical(y_test, 10)"
      ],
      "execution_count": 0,
      "outputs": []
    },
    {
      "cell_type": "code",
      "metadata": {
        "id": "r3rGgCU4oD_C",
        "colab_type": "code",
        "outputId": "b295472c-068b-4a8e-bc3a-e4446d77568d",
        "colab": {
          "base_uri": "https://localhost:8080/",
          "height": 141
        }
      },
      "source": [
        "#Model building\n",
        "initializer = keras.initializers.glorot_normal(seed=None)\n",
        "model = Sequential()\n",
        "model.add(Dense(1024, input_shape=(3072,), kernel_initializer=initializer, bias_initializer=initializer))\n",
        "model.add(Activation('relu'))\n",
        "model.add(Dense(512, kernel_initializer=initializer, bias_initializer=initializer))\n",
        "model.add(Activation('relu'))\n",
        "model.add(Dense(512, kernel_initializer=initializer, bias_initializer=initializer))\n",
        "model.add(Activation('relu'))\n",
        "model.add(Dense(10, kernel_initializer=initializer, bias_initializer=initializer))\n",
        "model.add(Activation('softmax'))"
      ],
      "execution_count": 0,
      "outputs": [
        {
          "output_type": "stream",
          "text": [
            "WARNING:tensorflow:From /usr/local/lib/python3.6/dist-packages/keras/backend/tensorflow_backend.py:66: The name tf.get_default_graph is deprecated. Please use tf.compat.v1.get_default_graph instead.\n",
            "\n",
            "WARNING:tensorflow:From /usr/local/lib/python3.6/dist-packages/keras/backend/tensorflow_backend.py:541: The name tf.placeholder is deprecated. Please use tf.compat.v1.placeholder instead.\n",
            "\n",
            "WARNING:tensorflow:From /usr/local/lib/python3.6/dist-packages/keras/backend/tensorflow_backend.py:4479: The name tf.truncated_normal is deprecated. Please use tf.random.truncated_normal instead.\n",
            "\n"
          ],
          "name": "stdout"
        }
      ]
    },
    {
      "cell_type": "code",
      "metadata": {
        "id": "lJGcwLuHvXEQ",
        "colab_type": "code",
        "colab": {}
      },
      "source": [
        "from keras import optimizers\n",
        "adamax=keras.optimizers.Adamax(lr=0.002, beta_1=0.9, beta_2=0.999)"
      ],
      "execution_count": 0,
      "outputs": []
    },
    {
      "cell_type": "code",
      "metadata": {
        "id": "R3ileHHwoKv3",
        "colab_type": "code",
        "outputId": "3bf9cecf-1314-4dc1-ee54-3650a34e6a05",
        "colab": {
          "base_uri": "https://localhost:8080/",
          "height": 86
        }
      },
      "source": [
        "model.compile(loss='categorical_crossentropy',\n",
        "              optimizer=adamax,\n",
        "              metrics=['accuracy'])"
      ],
      "execution_count": 0,
      "outputs": [
        {
          "output_type": "stream",
          "text": [
            "WARNING:tensorflow:From /usr/local/lib/python3.6/dist-packages/keras/optimizers.py:793: The name tf.train.Optimizer is deprecated. Please use tf.compat.v1.train.Optimizer instead.\n",
            "\n",
            "WARNING:tensorflow:From /usr/local/lib/python3.6/dist-packages/keras/backend/tensorflow_backend.py:3576: The name tf.log is deprecated. Please use tf.math.log instead.\n",
            "\n"
          ],
          "name": "stdout"
        }
      ]
    },
    {
      "cell_type": "code",
      "metadata": {
        "id": "TUcXrMOxoQ_V",
        "colab_type": "code",
        "outputId": "71a3dff7-d6a2-4d16-ff0b-5b9837ece83c",
        "colab": {
          "base_uri": "https://localhost:8080/",
          "height": 1000
        }
      },
      "source": [
        "# training\n",
        "history = model.fit(X_train, Y_train,\n",
        "                        batch_size=256,\n",
        "                        nb_epoch=20,          ## 20 epochs--51%acc\n",
        "                        verbose=1,\n",
        "                        validation_data=(X_test, Y_test))"
      ],
      "execution_count": 0,
      "outputs": [
        {
          "output_type": "stream",
          "text": [
            "WARNING:tensorflow:From /usr/local/lib/python3.6/dist-packages/tensorflow_core/python/ops/math_grad.py:1424: where (from tensorflow.python.ops.array_ops) is deprecated and will be removed in a future version.\n",
            "Instructions for updating:\n",
            "Use tf.where in 2.0, which has the same broadcast rule as np.where\n",
            "WARNING:tensorflow:From /usr/local/lib/python3.6/dist-packages/keras/backend/tensorflow_backend.py:1033: The name tf.assign_add is deprecated. Please use tf.compat.v1.assign_add instead.\n",
            "\n"
          ],
          "name": "stdout"
        },
        {
          "output_type": "stream",
          "text": [
            "/usr/local/lib/python3.6/dist-packages/ipykernel_launcher.py:5: UserWarning: The `nb_epoch` argument in `fit` has been renamed `epochs`.\n",
            "  \"\"\"\n"
          ],
          "name": "stderr"
        },
        {
          "output_type": "stream",
          "text": [
            "WARNING:tensorflow:From /usr/local/lib/python3.6/dist-packages/keras/backend/tensorflow_backend.py:1020: The name tf.assign is deprecated. Please use tf.compat.v1.assign instead.\n",
            "\n",
            "WARNING:tensorflow:From /usr/local/lib/python3.6/dist-packages/keras/backend/tensorflow_backend.py:3005: The name tf.Session is deprecated. Please use tf.compat.v1.Session instead.\n",
            "\n",
            "Train on 50000 samples, validate on 10000 samples\n",
            "Epoch 1/20\n",
            "WARNING:tensorflow:From /usr/local/lib/python3.6/dist-packages/keras/backend/tensorflow_backend.py:190: The name tf.get_default_session is deprecated. Please use tf.compat.v1.get_default_session instead.\n",
            "\n",
            "WARNING:tensorflow:From /usr/local/lib/python3.6/dist-packages/keras/backend/tensorflow_backend.py:197: The name tf.ConfigProto is deprecated. Please use tf.compat.v1.ConfigProto instead.\n",
            "\n",
            "WARNING:tensorflow:From /usr/local/lib/python3.6/dist-packages/keras/backend/tensorflow_backend.py:207: The name tf.global_variables is deprecated. Please use tf.compat.v1.global_variables instead.\n",
            "\n",
            "WARNING:tensorflow:From /usr/local/lib/python3.6/dist-packages/keras/backend/tensorflow_backend.py:216: The name tf.is_variable_initialized is deprecated. Please use tf.compat.v1.is_variable_initialized instead.\n",
            "\n",
            "WARNING:tensorflow:From /usr/local/lib/python3.6/dist-packages/keras/backend/tensorflow_backend.py:223: The name tf.variables_initializer is deprecated. Please use tf.compat.v1.variables_initializer instead.\n",
            "\n",
            "50000/50000 [==============================] - 12s 232us/step - loss: 2.2258 - acc: 0.2684 - val_loss: 1.8320 - val_acc: 0.3385\n",
            "Epoch 2/20\n",
            "50000/50000 [==============================] - 2s 34us/step - loss: 1.7457 - acc: 0.3759 - val_loss: 1.6648 - val_acc: 0.3992\n",
            "Epoch 3/20\n",
            "50000/50000 [==============================] - 2s 35us/step - loss: 1.6377 - acc: 0.4142 - val_loss: 1.6430 - val_acc: 0.4180\n",
            "Epoch 4/20\n",
            "50000/50000 [==============================] - 2s 34us/step - loss: 1.5738 - acc: 0.4365 - val_loss: 1.5592 - val_acc: 0.4407\n",
            "Epoch 5/20\n",
            "50000/50000 [==============================] - 2s 34us/step - loss: 1.5097 - acc: 0.4612 - val_loss: 1.5003 - val_acc: 0.4685\n",
            "Epoch 6/20\n",
            "50000/50000 [==============================] - 2s 35us/step - loss: 1.4676 - acc: 0.4751 - val_loss: 1.4816 - val_acc: 0.4774\n",
            "Epoch 7/20\n",
            "50000/50000 [==============================] - 2s 34us/step - loss: 1.4315 - acc: 0.4886 - val_loss: 1.4488 - val_acc: 0.4865\n",
            "Epoch 8/20\n",
            "50000/50000 [==============================] - 2s 34us/step - loss: 1.3920 - acc: 0.5031 - val_loss: 1.4309 - val_acc: 0.4854\n",
            "Epoch 9/20\n",
            "50000/50000 [==============================] - 2s 34us/step - loss: 1.3659 - acc: 0.5113 - val_loss: 1.4329 - val_acc: 0.4922\n",
            "Epoch 10/20\n",
            "50000/50000 [==============================] - 2s 34us/step - loss: 1.3286 - acc: 0.5251 - val_loss: 1.4313 - val_acc: 0.4900\n",
            "Epoch 11/20\n",
            "50000/50000 [==============================] - 2s 34us/step - loss: 1.2939 - acc: 0.5388 - val_loss: 1.4038 - val_acc: 0.4988\n",
            "Epoch 12/20\n",
            "50000/50000 [==============================] - 2s 34us/step - loss: 1.2710 - acc: 0.5469 - val_loss: 1.3978 - val_acc: 0.4994\n",
            "Epoch 13/20\n",
            "50000/50000 [==============================] - 2s 33us/step - loss: 1.2374 - acc: 0.5619 - val_loss: 1.3582 - val_acc: 0.5171\n",
            "Epoch 14/20\n",
            "50000/50000 [==============================] - 2s 34us/step - loss: 1.2040 - acc: 0.5728 - val_loss: 1.3629 - val_acc: 0.5221\n",
            "Epoch 15/20\n",
            "50000/50000 [==============================] - 2s 34us/step - loss: 1.1827 - acc: 0.5813 - val_loss: 1.3136 - val_acc: 0.5336\n",
            "Epoch 16/20\n",
            "50000/50000 [==============================] - 2s 34us/step - loss: 1.1353 - acc: 0.5976 - val_loss: 1.3553 - val_acc: 0.5275\n",
            "Epoch 17/20\n",
            "50000/50000 [==============================] - 2s 34us/step - loss: 1.1142 - acc: 0.6041 - val_loss: 1.3164 - val_acc: 0.5417\n",
            "Epoch 18/20\n",
            "50000/50000 [==============================] - 2s 35us/step - loss: 1.0839 - acc: 0.6165 - val_loss: 1.3049 - val_acc: 0.5424\n",
            "Epoch 19/20\n",
            "50000/50000 [==============================] - 2s 35us/step - loss: 1.0467 - acc: 0.6265 - val_loss: 1.3537 - val_acc: 0.5256\n",
            "Epoch 20/20\n",
            "50000/50000 [==============================] - 2s 35us/step - loss: 1.0216 - acc: 0.6363 - val_loss: 1.3786 - val_acc: 0.5242\n"
          ],
          "name": "stdout"
        }
      ]
    },
    {
      "cell_type": "code",
      "metadata": {
        "id": "NBSXo5tOs7ec",
        "colab_type": "code",
        "outputId": "887f0b5b-2c13-4bea-8a5e-d3a6ece07a5f",
        "colab": {
          "base_uri": "https://localhost:8080/",
          "height": 34
        }
      },
      "source": [
        "print(history.history.keys())"
      ],
      "execution_count": 0,
      "outputs": [
        {
          "output_type": "stream",
          "text": [
            "dict_keys(['val_loss', 'val_acc', 'loss', 'acc'])\n"
          ],
          "name": "stdout"
        }
      ]
    },
    {
      "cell_type": "code",
      "metadata": {
        "id": "SNB4HAlEofbv",
        "colab_type": "code",
        "outputId": "fe5b106d-64ba-44da-85e6-6d972473affc",
        "colab": {
          "base_uri": "https://localhost:8080/",
          "height": 573
        }
      },
      "source": [
        "import matplotlib.pyplot as plt\n",
        "\n",
        "# summarize history for loss\n",
        "plt.plot(history.history['acc'])\n",
        "plt.plot(history.history['val_acc'])\n",
        "plt.title('model accuracy')\n",
        "plt.ylabel('accuracy')\n",
        "plt.xlabel('epoch')\n",
        "plt.legend(['train', 'test'], loc='upper left')\n",
        "plt.show()\n",
        "# summarize history for loss\n",
        "plt.plot(history.history['loss'])\n",
        "plt.plot(history.history['val_loss'])\n",
        "plt.title('model loss')\n",
        "plt.ylabel('loss')\n",
        "plt.xlabel('epoch')\n",
        "plt.legend(['train', 'test'], loc='upper left')\n",
        "plt.show()"
      ],
      "execution_count": 0,
      "outputs": [
        {
          "output_type": "display_data",
          "data": {
            "image/png": "[encoded data removed]",
            "text/plain": [
              "<Figure size 432x288 with 1 Axes>"
            ]
          },
          "metadata": {
            "tags": []
          }
        },
        {
          "output_type": "display_data",
          "data": {
            "image/png": "[encoded data removed]",
            "text/plain": [
              "<Figure size 432x288 with 1 Axes>"
            ]
          },
          "metadata": {
            "tags": []
          }
        }
      ]
    },
    {
      "cell_type": "code",
      "metadata": {
        "id": "o9zvUD3-p0bQ",
        "colab_type": "code",
        "outputId": "73a504ce-dec1-487e-9bc1-dce4138549c3",
        "colab": {
          "base_uri": "https://localhost:8080/",
          "height": 69
        }
      },
      "source": [
        "# Model summary\n",
        "score = model.evaluate(X_test, Y_test, verbose=0)\n",
        "print('\\nTest loss:', score[0])\n",
        "print('Test accuracy:', score[1]*100, \"%\")"
      ],
      "execution_count": 0,
      "outputs": [
        {
          "output_type": "stream",
          "text": [
            "\n",
            "Test loss: 1.3785996112823486\n",
            "Test accuracy: 52.42 %\n"
          ],
          "name": "stdout"
        }
      ]
    },
    {
      "cell_type": "code",
      "metadata": {
        "id": "MKfEPuHnsABM",
        "colab_type": "code",
        "outputId": "37336b2e-6435-4f1f-cccc-57e434e3661a",
        "colab": {
          "base_uri": "https://localhost:8080/",
          "height": 69
        }
      },
      "source": [
        "score = model.evaluate(X_train, Y_train, verbose=0)\n",
        "print('\\nTrain loss:', score[0])\n",
        "print('Train accuracy:', score[1]*100, \"%\")"
      ],
      "execution_count": 0,
      "outputs": [
        {
          "output_type": "stream",
          "text": [
            "\n",
            "Train loss: 1.0160361834335327\n",
            "Train accuracy: 64.386 %\n"
          ],
          "name": "stdout"
        }
      ]
    },
    {
      "cell_type": "markdown",
      "metadata": {
        "id": "d0Icx9gu0zi5",
        "colab_type": "text"
      },
      "source": [
        "##**Hyperparameters taken into account:-**\n",
        "1. Loss = cross entropy loss\n",
        "2. no. of layers = 2\n",
        "3. Initializer = glorot_normal\n",
        "4. optimizer = adamax\n",
        "4. Activation func = relu"
      ]
    },
    {
      "cell_type": "code",
      "metadata": {
        "id": "rIl_0faxz24M",
        "colab_type": "code",
        "colab": {}
      },
      "source": [
        ""
      ],
      "execution_count": 0,
      "outputs": []
    }
  ]
}